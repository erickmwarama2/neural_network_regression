{
 "cells": [
  {
   "cell_type": "code",
   "execution_count": 1,
   "id": "231d8c72",
   "metadata": {},
   "outputs": [],
   "source": [
    "import tensorflow as tf\n",
    "import numpy as np\n",
    "import matplotlib.pyplot as plt\n",
    "import pandas as pd\n",
    "import tensorflow.keras as K\n",
    "from tensorflow.keras.layers import Dense"
   ]
  },
  {
   "cell_type": "code",
   "execution_count": 2,
   "id": "4271afe5",
   "metadata": {},
   "outputs": [],
   "source": [
    "np.random.seed(0)"
   ]
  },
  {
   "cell_type": "code",
   "execution_count": 3,
   "id": "a248e4ae",
   "metadata": {},
   "outputs": [
    {
     "data": {
      "image/png": "[encoded data removed]",
      "text/plain": [
       "<Figure size 640x480 with 1 Axes>"
      ]
     },
     "metadata": {},
     "output_type": "display_data"
    }
   ],
   "source": [
    "area = 2.5 * np.random.randn(100) + 25\n",
    "price = 25 * area + 5 + np.random.randint(20, 50, size=len(area))\n",
    "\n",
    "data = np.array([area, price])\n",
    "data = pd.DataFrame(data=data.T, columns=['area', 'price'])\n",
    "\n",
    "plt.scatter(data['area'], data['price'])\n",
    "plt.show()"
   ]
  },
  {
   "cell_type": "code",
   "execution_count": 4,
   "id": "302e265c",
   "metadata": {},
   "outputs": [],
   "source": [
    "data = (data - data.min()) / (data.max() - data.min())"
   ]
  },
  {
   "cell_type": "code",
   "execution_count": 5,
   "id": "259a8e5f",
   "metadata": {},
   "outputs": [
    {
     "name": "stdout",
     "output_type": "stream",
     "text": [
      "Model: \"sequential\"\n",
      "_________________________________________________________________\n",
      " Layer (type)                Output Shape              Param #   \n",
      "=================================================================\n",
      " dense (Dense)               (None, 1)                 2         \n",
      "                                                                 \n",
      "=================================================================\n",
      "Total params: 2\n",
      "Trainable params: 2\n",
      "Non-trainable params: 0\n",
      "_________________________________________________________________\n"
     ]
    },
    {
     "name": "stderr",
     "output_type": "stream",
     "text": [
      "2023-01-11 10:15:15.063948: I tensorflow/core/platform/cpu_feature_guard.cc:151] This TensorFlow binary is optimized with oneAPI Deep Neural Network Library (oneDNN) to use the following CPU instructions in performance-critical operations:  SSE4.1 SSE4.2 AVX AVX2 AVX512F FMA\n",
      "To enable them in other operations, rebuild TensorFlow with the appropriate compiler flags.\n",
      "2023-01-11 10:15:15.064295: I tensorflow/core/common_runtime/process_util.cc:146] Creating new thread pool with default inter op setting: 2. Tune using inter_op_parallelism_threads for best performance.\n"
     ]
    }
   ],
   "source": [
    "model = K.Sequential([\n",
    "    Dense(1, input_shape=[1,], activation=None)\n",
    "])\n",
    "model.summary()"
   ]
  },
  {
   "cell_type": "code",
   "execution_count": 6,
   "id": "f366764c",
   "metadata": {},
   "outputs": [],
   "source": [
    "model.compile(loss='mean_squared_error', optimizer='sgd')"
   ]
  },
  {
   "cell_type": "code",
   "execution_count": 7,
   "id": "0d69f5b4",
   "metadata": {},
   "outputs": [
    {
     "name": "stdout",
     "output_type": "stream",
     "text": [
      "Epoch 1/100\n",
      "3/3 [==============================] - 0s 40ms/step - loss: 0.0565 - val_loss: 0.0606\n",
      "Epoch 2/100\n",
      "3/3 [==============================] - 0s 10ms/step - loss: 0.0493 - val_loss: 0.0530\n",
      "Epoch 3/100\n",
      "3/3 [==============================] - 0s 9ms/step - loss: 0.0433 - val_loss: 0.0470\n",
      "Epoch 4/100\n",
      "3/3 [==============================] - 0s 9ms/step - loss: 0.0383 - val_loss: 0.0416\n",
      "Epoch 5/100\n",
      "3/3 [==============================] - 0s 9ms/step - loss: 0.0340 - val_loss: 0.0370\n",
      "Epoch 6/100\n",
      "3/3 [==============================] - 0s 9ms/step - loss: 0.0303 - val_loss: 0.0329\n",
      "Epoch 7/100\n",
      "3/3 [==============================] - 0s 9ms/step - loss: 0.0271 - val_loss: 0.0294\n",
      "Epoch 8/100\n",
      "3/3 [==============================] - 0s 9ms/step - loss: 0.0243 - val_loss: 0.0264\n",
      "Epoch 9/100\n",
      "3/3 [==============================] - 0s 10ms/step - loss: 0.0220 - val_loss: 0.0237\n",
      "Epoch 10/100\n",
      "3/3 [==============================] - 0s 9ms/step - loss: 0.0199 - val_loss: 0.0215\n",
      "Epoch 11/100\n",
      "3/3 [==============================] - 0s 9ms/step - loss: 0.0182 - val_loss: 0.0195\n",
      "Epoch 12/100\n",
      "3/3 [==============================] - 0s 9ms/step - loss: 0.0167 - val_loss: 0.0178\n",
      "Epoch 13/100\n",
      "3/3 [==============================] - 0s 9ms/step - loss: 0.0154 - val_loss: 0.0163\n",
      "Epoch 14/100\n",
      "3/3 [==============================] - 0s 9ms/step - loss: 0.0142 - val_loss: 0.0150\n",
      "Epoch 15/100\n",
      "3/3 [==============================] - 0s 10ms/step - loss: 0.0133 - val_loss: 0.0139\n",
      "Epoch 16/100\n",
      "3/3 [==============================] - 0s 9ms/step - loss: 0.0125 - val_loss: 0.0129\n",
      "Epoch 17/100\n",
      "3/3 [==============================] - 0s 10ms/step - loss: 0.0118 - val_loss: 0.0121\n",
      "Epoch 18/100\n",
      "3/3 [==============================] - 0s 10ms/step - loss: 0.0112 - val_loss: 0.0113\n",
      "Epoch 19/100\n",
      "3/3 [==============================] - 0s 11ms/step - loss: 0.0107 - val_loss: 0.0107\n",
      "Epoch 20/100\n",
      "3/3 [==============================] - 0s 10ms/step - loss: 0.0103 - val_loss: 0.0102\n",
      "Epoch 21/100\n",
      "3/3 [==============================] - 0s 9ms/step - loss: 0.0099 - val_loss: 0.0096\n",
      "Epoch 22/100\n",
      "3/3 [==============================] - 0s 9ms/step - loss: 0.0096 - val_loss: 0.0092\n",
      "Epoch 23/100\n",
      "3/3 [==============================] - 0s 9ms/step - loss: 0.0092 - val_loss: 0.0088\n",
      "Epoch 24/100\n",
      "3/3 [==============================] - 0s 9ms/step - loss: 0.0090 - val_loss: 0.0084\n",
      "Epoch 25/100\n",
      "3/3 [==============================] - 0s 9ms/step - loss: 0.0087 - val_loss: 0.0081\n",
      "Epoch 26/100\n",
      "3/3 [==============================] - 0s 9ms/step - loss: 0.0086 - val_loss: 0.0078\n",
      "Epoch 27/100\n",
      "3/3 [==============================] - 0s 10ms/step - loss: 0.0084 - val_loss: 0.0076\n",
      "Epoch 28/100\n",
      "3/3 [==============================] - 0s 9ms/step - loss: 0.0083 - val_loss: 0.0074\n",
      "Epoch 29/100\n",
      "3/3 [==============================] - 0s 10ms/step - loss: 0.0081 - val_loss: 0.0072\n",
      "Epoch 30/100\n",
      "3/3 [==============================] - 0s 10ms/step - loss: 0.0080 - val_loss: 0.0070\n",
      "Epoch 31/100\n",
      "3/3 [==============================] - 0s 9ms/step - loss: 0.0079 - val_loss: 0.0068\n",
      "Epoch 32/100\n",
      "3/3 [==============================] - 0s 12ms/step - loss: 0.0078 - val_loss: 0.0067\n",
      "Epoch 33/100\n",
      "3/3 [==============================] - 0s 11ms/step - loss: 0.0077 - val_loss: 0.0066\n",
      "Epoch 34/100\n",
      "3/3 [==============================] - 0s 9ms/step - loss: 0.0076 - val_loss: 0.0064\n",
      "Epoch 35/100\n",
      "3/3 [==============================] - 0s 10ms/step - loss: 0.0076 - val_loss: 0.0063\n",
      "Epoch 36/100\n",
      "3/3 [==============================] - 0s 10ms/step - loss: 0.0075 - val_loss: 0.0063\n",
      "Epoch 37/100\n",
      "3/3 [==============================] - 0s 11ms/step - loss: 0.0075 - val_loss: 0.0062\n",
      "Epoch 38/100\n",
      "3/3 [==============================] - 0s 9ms/step - loss: 0.0074 - val_loss: 0.0061\n",
      "Epoch 39/100\n",
      "3/3 [==============================] - 0s 9ms/step - loss: 0.0074 - val_loss: 0.0060\n",
      "Epoch 40/100\n",
      "3/3 [==============================] - 0s 10ms/step - loss: 0.0073 - val_loss: 0.0060\n",
      "Epoch 41/100\n",
      "3/3 [==============================] - 0s 9ms/step - loss: 0.0073 - val_loss: 0.0059\n",
      "Epoch 42/100\n",
      "3/3 [==============================] - 0s 9ms/step - loss: 0.0072 - val_loss: 0.0059\n",
      "Epoch 43/100\n",
      "3/3 [==============================] - 0s 11ms/step - loss: 0.0072 - val_loss: 0.0058\n",
      "Epoch 44/100\n",
      "3/3 [==============================] - 0s 11ms/step - loss: 0.0072 - val_loss: 0.0058\n",
      "Epoch 45/100\n",
      "3/3 [==============================] - 0s 10ms/step - loss: 0.0071 - val_loss: 0.0057\n",
      "Epoch 46/100\n",
      "3/3 [==============================] - 0s 10ms/step - loss: 0.0071 - val_loss: 0.0057\n",
      "Epoch 47/100\n",
      "3/3 [==============================] - 0s 9ms/step - loss: 0.0071 - val_loss: 0.0056\n",
      "Epoch 48/100\n",
      "3/3 [==============================] - 0s 10ms/step - loss: 0.0070 - val_loss: 0.0056\n",
      "Epoch 49/100\n",
      "3/3 [==============================] - 0s 10ms/step - loss: 0.0070 - val_loss: 0.0056\n",
      "Epoch 50/100\n",
      "3/3 [==============================] - 0s 10ms/step - loss: 0.0070 - val_loss: 0.0055\n",
      "Epoch 51/100\n",
      "3/3 [==============================] - 0s 10ms/step - loss: 0.0070 - val_loss: 0.0055\n",
      "Epoch 52/100\n",
      "3/3 [==============================] - 0s 15ms/step - loss: 0.0069 - val_loss: 0.0055\n",
      "Epoch 53/100\n",
      "3/3 [==============================] - 0s 10ms/step - loss: 0.0069 - val_loss: 0.0054\n",
      "Epoch 54/100\n",
      "3/3 [==============================] - 0s 9ms/step - loss: 0.0069 - val_loss: 0.0054\n",
      "Epoch 55/100\n",
      "3/3 [==============================] - 0s 9ms/step - loss: 0.0068 - val_loss: 0.0053\n",
      "Epoch 56/100\n",
      "3/3 [==============================] - 0s 9ms/step - loss: 0.0068 - val_loss: 0.0053\n",
      "Epoch 57/100\n",
      "3/3 [==============================] - 0s 10ms/step - loss: 0.0068 - val_loss: 0.0053\n",
      "Epoch 58/100\n",
      "3/3 [==============================] - 0s 9ms/step - loss: 0.0068 - val_loss: 0.0053\n",
      "Epoch 59/100\n",
      "3/3 [==============================] - 0s 9ms/step - loss: 0.0068 - val_loss: 0.0053\n",
      "Epoch 60/100\n",
      "3/3 [==============================] - 0s 10ms/step - loss: 0.0067 - val_loss: 0.0052\n",
      "Epoch 61/100\n",
      "3/3 [==============================] - 0s 9ms/step - loss: 0.0067 - val_loss: 0.0052\n",
      "Epoch 62/100\n",
      "3/3 [==============================] - 0s 9ms/step - loss: 0.0067 - val_loss: 0.0052\n",
      "Epoch 63/100\n",
      "3/3 [==============================] - 0s 9ms/step - loss: 0.0067 - val_loss: 0.0052\n",
      "Epoch 64/100\n",
      "3/3 [==============================] - 0s 9ms/step - loss: 0.0066 - val_loss: 0.0052\n",
      "Epoch 65/100\n",
      "3/3 [==============================] - 0s 10ms/step - loss: 0.0066 - val_loss: 0.0051\n",
      "Epoch 66/100\n",
      "3/3 [==============================] - 0s 9ms/step - loss: 0.0066 - val_loss: 0.0051\n",
      "Epoch 67/100\n",
      "3/3 [==============================] - 0s 9ms/step - loss: 0.0066 - val_loss: 0.0051\n",
      "Epoch 68/100\n",
      "3/3 [==============================] - 0s 8ms/step - loss: 0.0065 - val_loss: 0.0051\n",
      "Epoch 69/100\n",
      "3/3 [==============================] - 0s 9ms/step - loss: 0.0065 - val_loss: 0.0050\n",
      "Epoch 70/100\n",
      "3/3 [==============================] - 0s 9ms/step - loss: 0.0065 - val_loss: 0.0050\n",
      "Epoch 71/100\n",
      "3/3 [==============================] - 0s 9ms/step - loss: 0.0065 - val_loss: 0.0050\n",
      "Epoch 72/100\n",
      "3/3 [==============================] - 0s 9ms/step - loss: 0.0064 - val_loss: 0.0050\n",
      "Epoch 73/100\n",
      "3/3 [==============================] - 0s 9ms/step - loss: 0.0064 - val_loss: 0.0049\n",
      "Epoch 74/100\n",
      "3/3 [==============================] - 0s 10ms/step - loss: 0.0064 - val_loss: 0.0049\n",
      "Epoch 75/100\n",
      "3/3 [==============================] - 0s 9ms/step - loss: 0.0064 - val_loss: 0.0049\n",
      "Epoch 76/100\n",
      "3/3 [==============================] - 0s 10ms/step - loss: 0.0064 - val_loss: 0.0049\n",
      "Epoch 77/100\n",
      "3/3 [==============================] - 0s 9ms/step - loss: 0.0063 - val_loss: 0.0049\n",
      "Epoch 78/100\n",
      "3/3 [==============================] - 0s 9ms/step - loss: 0.0063 - val_loss: 0.0049\n",
      "Epoch 79/100\n",
      "3/3 [==============================] - 0s 9ms/step - loss: 0.0063 - val_loss: 0.0048\n",
      "Epoch 80/100\n",
      "3/3 [==============================] - 0s 9ms/step - loss: 0.0063 - val_loss: 0.0048\n",
      "Epoch 81/100\n",
      "3/3 [==============================] - 0s 9ms/step - loss: 0.0062 - val_loss: 0.0048\n",
      "Epoch 82/100\n",
      "3/3 [==============================] - 0s 9ms/step - loss: 0.0062 - val_loss: 0.0048\n",
      "Epoch 83/100\n",
      "3/3 [==============================] - 0s 9ms/step - loss: 0.0062 - val_loss: 0.0048\n",
      "Epoch 84/100\n"
     ]
    },
    {
     "name": "stdout",
     "output_type": "stream",
     "text": [
      "3/3 [==============================] - 0s 9ms/step - loss: 0.0062 - val_loss: 0.0047\n",
      "Epoch 85/100\n",
      "3/3 [==============================] - 0s 9ms/step - loss: 0.0062 - val_loss: 0.0047\n",
      "Epoch 86/100\n",
      "3/3 [==============================] - 0s 9ms/step - loss: 0.0061 - val_loss: 0.0047\n",
      "Epoch 87/100\n",
      "3/3 [==============================] - 0s 9ms/step - loss: 0.0061 - val_loss: 0.0047\n",
      "Epoch 88/100\n",
      "3/3 [==============================] - 0s 9ms/step - loss: 0.0061 - val_loss: 0.0047\n",
      "Epoch 89/100\n",
      "3/3 [==============================] - 0s 9ms/step - loss: 0.0061 - val_loss: 0.0046\n",
      "Epoch 90/100\n",
      "3/3 [==============================] - 0s 9ms/step - loss: 0.0061 - val_loss: 0.0046\n",
      "Epoch 91/100\n",
      "3/3 [==============================] - 0s 9ms/step - loss: 0.0060 - val_loss: 0.0046\n",
      "Epoch 92/100\n",
      "3/3 [==============================] - 0s 10ms/step - loss: 0.0060 - val_loss: 0.0046\n",
      "Epoch 93/100\n",
      "3/3 [==============================] - 0s 10ms/step - loss: 0.0060 - val_loss: 0.0046\n",
      "Epoch 94/100\n",
      "3/3 [==============================] - 0s 10ms/step - loss: 0.0060 - val_loss: 0.0046\n",
      "Epoch 95/100\n",
      "3/3 [==============================] - 0s 9ms/step - loss: 0.0060 - val_loss: 0.0045\n",
      "Epoch 96/100\n",
      "3/3 [==============================] - 0s 9ms/step - loss: 0.0059 - val_loss: 0.0045\n",
      "Epoch 97/100\n",
      "3/3 [==============================] - 0s 9ms/step - loss: 0.0059 - val_loss: 0.0045\n",
      "Epoch 98/100\n",
      "3/3 [==============================] - 0s 9ms/step - loss: 0.0059 - val_loss: 0.0045\n",
      "Epoch 99/100\n",
      "3/3 [==============================] - 0s 9ms/step - loss: 0.0059 - val_loss: 0.0045\n",
      "Epoch 100/100\n",
      "3/3 [==============================] - 0s 9ms/step - loss: 0.0059 - val_loss: 0.0045\n"
     ]
    },
    {
     "data": {
      "text/plain": [
       "<keras.callbacks.History at 0x7fb9cc0ff790>"
      ]
     },
     "execution_count": 7,
     "metadata": {},
     "output_type": "execute_result"
    }
   ],
   "source": [
    "model.fit(x=data['area'], y=data['price'], epochs=100, batch_size=32, verbose=1, validation_split=0.2)"
   ]
  },
  {
   "cell_type": "code",
   "execution_count": 8,
   "id": "13fa4692",
   "metadata": {},
   "outputs": [],
   "source": [
    "y_pred = model.predict(data['area'])"
   ]
  },
  {
   "cell_type": "code",
   "execution_count": 9,
   "id": "86edaebf",
   "metadata": {},
   "outputs": [
    {
     "data": {
      "text/plain": [
       "<matplotlib.legend.Legend at 0x7fb9bc5863b0>"
      ]
     },
     "execution_count": 9,
     "metadata": {},
     "output_type": "execute_result"
    },
    {
     "data": {
      "image/png": "[encoded data removed]",
      "text/plain": [
       "<Figure size 640x480 with 1 Axes>"
      ]
     },
     "metadata": {},
     "output_type": "display_data"
    }
   ],
   "source": [
    "plt.plot(data['area'], y_pred, color='red', label=\"Predicted Price\")\n",
    "plt.scatter(data['area'], data['price'], label=\"Training Data\")\n",
    "plt.xlabel(\"Area\")\n",
    "plt.ylabel(\"Price\")\n",
    "plt.legend()"
   ]
  },
  {
   "cell_type": "code",
   "execution_count": 10,
   "id": "403142c0",
   "metadata": {},
   "outputs": [
    {
     "data": {
      "text/plain": [
       "[<tf.Variable 'dense/kernel:0' shape=(1, 1) dtype=float32, numpy=array([[0.67901736]], dtype=float32)>,\n",
       " <tf.Variable 'dense/bias:0' shape=(1,) dtype=float32, numpy=array([0.13330792], dtype=float32)>]"
      ]
     },
     "execution_count": 10,
     "metadata": {},
     "output_type": "execute_result"
    }
   ],
   "source": [
    "model.weights"
   ]
  },
  {
   "cell_type": "code",
   "execution_count": null,
   "id": "ebf492c6",
   "metadata": {},
   "outputs": [],
   "source": []
  }
 ],
 "metadata": {
  "kernelspec": {
   "display_name": "Python 3 (ipykernel)",
   "language": "python",
   "name": "python3"
  },
  "language_info": {
   "codemirror_mode": {
    "name": "ipython",
    "version": 3
   },
   "file_extension": ".py",
   "mimetype": "text/x-python",
   "name": "python",
   "nbconvert_exporter": "python",
   "pygments_lexer": "ipython3",
   "version": "3.10.6"
  }
 },
 "nbformat": 4,
 "nbformat_minor": 5
}
